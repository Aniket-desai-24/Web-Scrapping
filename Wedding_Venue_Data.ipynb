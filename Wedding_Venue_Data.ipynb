{
  "nbformat": 4,
  "nbformat_minor": 0,
  "metadata": {
    "colab": {
      "provenance": []
    },
    "kernelspec": {
      "name": "python3",
      "display_name": "Python 3"
    },
    "language_info": {
      "name": "python"
    }
  },
  "cells": [
    {
      "cell_type": "code",
      "execution_count": 1,
      "metadata": {
        "id": "KLsfwtPKMobB"
      },
      "outputs": [],
      "source": [
        "import pandas as pd\n",
        "import numpy as np\n",
        "from bs4 import BeautifulSoup\n",
        "import requests\n",
        "import warnings\n",
        "warnings.filterwarnings(\"ignore\")"
      ]
    },
    {
      "cell_type": "code",
      "source": [
        "final=pd.DataFrame()\n",
        "\n",
        "for j in range(1,50):\n",
        "    \n",
        "    url=\"https://www.wedmegood.com/vendors/all/wedding-venues/?page={}\".format(j)\n",
        "    response=requests.get(url).text\n",
        "    \n",
        "    soup = BeautifulSoup(response,\"lxml\")\n",
        "    \n",
        "    \n",
        "    venue_info = soup.find_all('div', {'class': 'vendor-info'})\n",
        "    \n",
        "    \n",
        "    Name=[]\n",
        "    Location=[]\n",
        "    Venue_type=[]\n",
        "    veg_plate_price=[]\n",
        "    non_veg_plate_price=[]\n",
        "    Capacity=[]\n",
        "    Rooms=[]\n",
        "    Ratings=[]\n",
        "    \n",
        "    \n",
        "    \n",
        "    \n",
        "    for venue in venue_info:\n",
        "        try:\n",
        "            Name.append(venue.find('a',class_=\"vendor-detail text-bold h6\").text.strip())\n",
        "            Location.append(venue.find('p',class_=\"vendor-detail\").text.strip())\n",
        "            Venue_type.append(venue.find('p',class_=\"margin-l-5\").text.strip())\n",
        "            \n",
        "        except:\n",
        "            Name.append(np.nan)\n",
        "            Location.append(np.nan)\n",
        "            Venue_type.append(np.nan)\n",
        "\n",
        "    \n",
        "    \n",
        "    venue_price=soup.find_all('p',class_=\"vendor-detail text-bold text-primary v-center margin-r-5\")\n",
        "    \n",
        "    \n",
        "    all_price=[]\n",
        "    \n",
        "    \n",
        "    for i in venue_price:\n",
        "        try:\n",
        "            all_price.append(i.find('span').text.strip())\n",
        "        \n",
        "        except:\n",
        "            all_price.append(np.nan)\n",
        "        \n",
        "\n",
        "    for item in all_price:\n",
        "        veg_plate_price.append(item)\n",
        "        if \"Rental\" in item:\n",
        "            veg_plate_price.append([np.nan])\n",
        "        elif \"On\" in item:\n",
        "            veg_plate_price.append([np.nan])\n",
        "        \n",
        "        \n",
        "    non_veg_plate_price = [veg_plate_price[i] for i in range(1, len(veg_plate_price), 2)]\n",
        "    \n",
        "    \n",
        "    \n",
        "    veg_plate_price = veg_plate_price[::2]\n",
        "    \n",
        "    \n",
        "    \n",
        "    rate=soup.find_all('div',class_=\"nowrap f-sb-bw\")\n",
        "    for venue in rate:\n",
        "        Ratings.append(venue.find('span').text.strip())\n",
        "    \n",
        "    rooms_in=soup.find_all('div',class_=\"v-center margin-10\")\n",
        "\n",
        "    for venue in rooms_in:\n",
        "        try:\n",
        "            Capacity.append(venue.find_all('p')[0].text.strip())\n",
        "            Rooms.append(venue.find_all('p')[1].text.strip())\n",
        "        except:\n",
        "            Rooms.append(np.nan)\n",
        "            Capacity.append(np.nan)\n",
        "            \n",
        "    d={'Name':Name,\"Location\":Location,\"Venue_type\":Venue_type,\"veg_plate_price\":veg_plate_price,\"non_veg_plate_price\":non_veg_plate_price,\"Capacity\":Capacity,\"Rooms\":Rooms,\"Ratings\":Ratings}\n",
        "    df=pd.DataFrame(d)\n",
        "            \n",
        "            \n",
        "    final=final.append(df)"
      ],
      "metadata": {
        "id": "AwLRMaNoMwq-"
      },
      "execution_count": null,
      "outputs": []
    },
    {
      "cell_type": "code",
      "source": [],
      "metadata": {
        "id": "5WZgbo-YNC2P"
      },
      "execution_count": null,
      "outputs": []
    },
    {
      "cell_type": "code",
      "source": [],
      "metadata": {
        "id": "yeddk28lNMrW"
      },
      "execution_count": null,
      "outputs": []
    }
  ]
}